{
 "cells": [
  {
   "cell_type": "code",
   "execution_count": 2,
   "metadata": {},
   "outputs": [],
   "source": [
    "import numpy as np"
   ]
  },
  {
   "cell_type": "code",
   "execution_count": null,
   "metadata": {},
   "outputs": [],
   "source": [
    "# same data type\n",
    "# multi-dimensional\n",
    "\n",
    "# fast computation for arrays"
   ]
  },
  {
   "cell_type": "code",
   "execution_count": 3,
   "metadata": {},
   "outputs": [
    {
     "data": {
      "text/plain": [
       "array([1, 2, 3])"
      ]
     },
     "execution_count": 3,
     "metadata": {},
     "output_type": "execute_result"
    }
   ],
   "source": [
    "# list -> ndarray 생성\n",
    "# 데이터 타입을 float32로 설정\n",
    "lst = [1,2,3]\n",
    "a = np.array(lst)\n",
    "a"
   ]
  },
  {
   "cell_type": "code",
   "execution_count": 4,
   "metadata": {},
   "outputs": [
    {
     "name": "stdout",
     "output_type": "stream",
     "text": [
      "1\n",
      "(3,)\n",
      "int64\n"
     ]
    }
   ],
   "source": [
    "# 차원, 각 차원의 크기, 데이터 타입 출력\n",
    "print(a.ndim)\n",
    "print(a.shape)\n",
    "print(a.dtype)"
   ]
  },
  {
   "cell_type": "code",
   "execution_count": 10,
   "metadata": {},
   "outputs": [
    {
     "name": "stdout",
     "output_type": "stream",
     "text": [
      "[[1. 1. 1. 1. 1.]\n",
      " [1. 1. 1. 1. 1.]\n",
      " [1. 1. 1. 1. 1.]]\n",
      "[[0. 0. 0.]\n",
      " [0. 0. 0.]]\n",
      "[0.  0.2 0.4 0.6 0.8 1.  1.2 1.4 1.6 1.8]\n",
      "[ 1.   1.5  2.   2.5  3.   3.5  4.   4.5  5.   5.5  6.   6.5  7.   7.5\n",
      "  8.   8.5  9.   9.5 10. ]\n"
     ]
    }
   ],
   "source": [
    "# 1로된 배열 생성 / 0으로된 배열 생성 / 0~2까지 0.2 간격의 배열 생성\n",
    "a = np.ones((3,5))\n",
    "b = np.zeros((2,3))\n",
    "print(a)\n",
    "print(b)\n",
    "\n",
    "c = np.arange(0, 2, 0.2)\n",
    "d = np.arange(1, 10.5, 0.5)\n",
    "print(c)\n",
    "print(d)\n"
   ]
  },
  {
   "cell_type": "code",
   "execution_count": 18,
   "metadata": {},
   "outputs": [
    {
     "name": "stdout",
     "output_type": "stream",
     "text": [
      "[0.   0.01 0.02 0.03 0.04 0.05 0.06 0.07 0.08 0.09 0.1  0.11 0.12 0.13\n",
      " 0.14 0.15 0.16 0.17 0.18 0.19 0.2  0.21 0.22 0.23 0.24 0.25 0.26 0.27\n",
      " 0.28 0.29 0.3  0.31 0.32 0.33 0.34 0.35 0.36 0.37 0.38 0.39 0.4  0.41\n",
      " 0.42 0.43 0.44 0.45 0.46 0.47 0.48 0.49 0.5  0.51 0.52 0.53 0.54 0.55\n",
      " 0.56 0.57 0.58 0.59 0.6  0.61 0.62 0.63 0.64 0.65 0.66 0.67 0.68 0.69\n",
      " 0.7  0.71 0.72 0.73 0.74 0.75 0.76 0.77 0.78 0.79 0.8  0.81 0.82 0.83\n",
      " 0.84 0.85 0.86 0.87 0.88 0.89 0.9  0.91 0.92 0.93 0.94 0.95 0.96 0.97\n",
      " 0.98 0.99 1.  ]\n",
      "[0.         0.34906585 0.6981317  1.04719755 1.3962634  1.74532925\n",
      " 2.0943951  2.44346095 2.7925268  3.14159265]\n",
      "[ 2.71828183  7.3890561  20.08553692]\n"
     ]
    }
   ],
   "source": [
    "# 0~1까지 100개의 요소를 갖는 배열 생성\n",
    "a = np.linspace(0, 1, 101)\n",
    "b = np.linspace(0, np.pi, 10)\n",
    "print(a)\n",
    "print(b)\n",
    "c = np.exp([1,2,3])\n",
    "print(c)\n",
    "\n",
    "# [e^1, e^2, e^3]"
   ]
  },
  {
   "cell_type": "code",
   "execution_count": null,
   "metadata": {},
   "outputs": [],
   "source": [
    "# (2,2)의 배열 2개 생성 -> elementwise product / matrix product"
   ]
  },
  {
   "cell_type": "code",
   "execution_count": 27,
   "metadata": {},
   "outputs": [
    {
     "name": "stdout",
     "output_type": "stream",
     "text": [
      "[[ 0  1  2  3]\n",
      " [ 4  5  6  7]\n",
      " [ 8  9 10 11]]\n",
      "2\n",
      "(3, 4)\n",
      "[12 15 18 21]\n",
      "[ 6 22 38]\n",
      "[0 1 2 3]\n",
      "[0 4 8]\n"
     ]
    }
   ],
   "source": [
    "# 0~12까지 (3,4) 배열 생성\n",
    "# column 합 / row 최솟값 / 전체 최댓값\n",
    "a = np.arange(0, 12, 1).reshape(3,4)\n",
    "print(a)\n",
    "print(a.ndim)\n",
    "print(a.shape)\n",
    "\n",
    "print(a.sum(axis=0))\n",
    "print(a.sum(axis=1))\n",
    "\n",
    "print(a.min(axis=0))\n",
    "print(a.min(axis=1))"
   ]
  },
  {
   "cell_type": "code",
   "execution_count": null,
   "metadata": {},
   "outputs": [],
   "source": [
    "# 0~3까지 배열 생성\n",
    "# e^ / root"
   ]
  },
  {
   "cell_type": "code",
   "execution_count": 49,
   "metadata": {},
   "outputs": [
    {
     "name": "stdout",
     "output_type": "stream",
     "text": [
      "[[ 0  1  2  3]\n",
      " [ 4  5  6  7]\n",
      " [ 8  9 10 11]]\n",
      "1\n",
      "6\n",
      "10\n",
      "[0 1]\n",
      "[[2 3]\n",
      " [6 7]]\n"
     ]
    }
   ],
   "source": [
    "# 0~12까지 (3,4) 배열 생성\n",
    "# indexing / slicing\n",
    "# iterating through rows\n",
    "a = np.arange(0,12,1).reshape(3,4)\n",
    "print(a)\n",
    "print(a[0, 1])\n",
    "print(a[1,2])\n",
    "print(a[2,2])\n",
    "print(a[0, :2])\n",
    "print(a[0:2,2:])"
   ]
  },
  {
   "cell_type": "code",
   "execution_count": 62,
   "metadata": {},
   "outputs": [
    {
     "name": "stdout",
     "output_type": "stream",
     "text": [
      "[ 0  1  4  9 16 25 36 49 64 81]\n",
      "[ 4  9 16]\n",
      "[ 0  4 16]\n",
      "[16 36 64]\n",
      "[ 0  1  4  9 16 25 36 49 64 81]\n",
      "[81 64 49 36 25 16  9  4  1  0]\n"
     ]
    }
   ],
   "source": [
    "a = np.arange(10) **2\n",
    "print(a)\n",
    "# Slicing\n",
    "print(a[2:5])\n",
    "print(a[:5:2])  # equal to a[0:4:2]\n",
    "print(a[4::2])  # equal to a[4:len(a):3]\n",
    "\n",
    "print(a[:])\n",
    "print(a[::-1])  # reversed array"
   ]
  },
  {
   "cell_type": "code",
   "execution_count": 78,
   "metadata": {},
   "outputs": [
    {
     "name": "stdout",
     "output_type": "stream",
     "text": [
      "[[0. 6. 0. 0.]\n",
      " [7. 3. 5. 3.]\n",
      " [2. 9. 8. 7.]]\n",
      "float64\n",
      "[[0. 7. 2.]\n",
      " [6. 3. 9.]\n",
      " [0. 5. 8.]\n",
      " [0. 3. 7.]]\n",
      "[[0. 7. 2.]\n",
      " [6. 3. 9.]\n",
      " [0. 5. 8.]\n",
      " [0. 3. 7.]]\n"
     ]
    }
   ],
   "source": [
    "a = np.floor(10 * np.random.random((3,4)))\n",
    "print(a)\n",
    "print(a.dtype)\n",
    "print(a.T)\n",
    "print(a.transpose())"
   ]
  },
  {
   "cell_type": "code",
   "execution_count": 81,
   "metadata": {},
   "outputs": [
    {
     "name": "stdout",
     "output_type": "stream",
     "text": [
      "[[0 5]\n",
      " [1 6]\n",
      " [2 7]\n",
      " [3 8]\n",
      " [4 9]]\n",
      "(5, 2)\n"
     ]
    }
   ],
   "source": [
    "# 전치행렬\n",
    "a = np.arange(10,).reshape(2,5).T\n",
    "print(a)\n",
    "print(a.shape)"
   ]
  },
  {
   "cell_type": "code",
   "execution_count": 83,
   "metadata": {},
   "outputs": [
    {
     "name": "stdout",
     "output_type": "stream",
     "text": [
      "[[8. 8.]\n",
      " [0. 9.]]\n",
      "[[8. 5.]\n",
      " [0. 4.]]\n",
      "[[8. 8.]\n",
      " [0. 9.]\n",
      " [8. 5.]\n",
      " [0. 4.]]\n",
      "[[8. 8. 8. 5.]\n",
      " [0. 9. 0. 4.]]\n"
     ]
    }
   ],
   "source": [
    "a = np.floor(10*np.random.random((2, 2)))\n",
    "b = np.floor(10*np.random.random((2, 2)))\n",
    "\n",
    "print(a)\n",
    "print(b)\n",
    "print(np.vstack((a, b)))\n",
    "print(np.hstack((a, b)))"
   ]
  },
  {
   "cell_type": "code",
   "execution_count": 94,
   "metadata": {},
   "outputs": [
    {
     "name": "stdout",
     "output_type": "stream",
     "text": [
      "[[1. 5. 5. 9. 8. 6. 8. 5. 9. 3. 6. 9.]\n",
      " [5. 1. 7. 5. 3. 9. 7. 2. 4. 4. 5. 5.]]\n",
      "[[1. 5. 5.]\n",
      " [5. 1. 7.]]\n",
      "[[9. 8. 6.]\n",
      " [5. 3. 9.]]\n",
      "[[8. 5. 9.]\n",
      " [7. 2. 4.]]\n",
      "[[3. 6. 9.]\n",
      " [4. 5. 5.]]\n",
      "[[1. 5. 5. 9. 8. 6. 8. 5. 9. 3. 6. 9.]\n",
      " [5. 1. 7. 5. 3. 9. 7. 2. 4. 4. 5. 5.]]\n"
     ]
    }
   ],
   "source": [
    "a = np.floor(10*np.random.random((2, 12)))\n",
    "\n",
    "print(a)\n",
    "c = np.hsplit(a, 4)\n",
    "print(c[0])\n",
    "print(c[1])\n",
    "print(c[2])\n",
    "print(c[3])\n",
    "print(np.hstack((c[0], c[1], c[2], c[3])))"
   ]
  },
  {
   "cell_type": "code",
   "execution_count": null,
   "metadata": {},
   "outputs": [],
   "source": [
    "# [0,1] 범위 내 난수의 (2,3) 배열 생성\n",
    "\n",
    "# [1,5] 범위의 임의의 정수 (2,3) 배열 생성\n",
    "\n",
    "# 표준정규분포를 따르는 난수의 (2,3) 배열 생성"
   ]
  }
 ],
 "metadata": {
  "kernelspec": {
   "display_name": "Python 3.9.12 ('o3d')",
   "language": "python",
   "name": "python3"
  },
  "language_info": {
   "codemirror_mode": {
    "name": "ipython",
    "version": 3
   },
   "file_extension": ".py",
   "mimetype": "text/x-python",
   "name": "python",
   "nbconvert_exporter": "python",
   "pygments_lexer": "ipython3",
   "version": "3.9.12"
  },
  "orig_nbformat": 4,
  "vscode": {
   "interpreter": {
    "hash": "00fbf2b82ca7bab14ceeac7ef602864b73fabb467c710ace1237c5b8b126fa66"
   }
  }
 },
 "nbformat": 4,
 "nbformat_minor": 2
}

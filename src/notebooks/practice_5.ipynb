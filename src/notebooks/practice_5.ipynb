{
 "cells": [
  {
   "cell_type": "markdown",
   "metadata": {},
   "source": [
    "#### [1]\n",
    "첫 번째 항의 값이 0이고 두 번째 항의 값이 1일 때, 이후에 이어지는 항은 이전의 두 항을 더한 값으로 이루어지는 수열을 피보나치 수열이라고 한다.\n",
    "\n",
    "```\n",
    "0, 1, 1, 2, 3, 5, 8, 13, ...\n",
    "```\n",
    "입력을 정수 n으로 받았을 때, n 이하까지의 피보나치 수열을 출력하는 함수를 작성해 보자."
   ]
  },
  {
   "cell_type": "code",
   "execution_count": null,
   "metadata": {},
   "outputs": [],
   "source": []
  },
  {
   "cell_type": "markdown",
   "metadata": {},
   "source": [
    "#### [2]\n",
    "사용자로부터 다음과 같은 숫자를 입력받아 입력받은 숫자의 총합을 구하는 프로그램을 작성하시오. (단 숫자는 콤마로 구분하여 입력한다.)\n",
    "\n",
    "```\n",
    "65,45,2,3,45,8\n",
    "```"
   ]
  },
  {
   "cell_type": "code",
   "execution_count": null,
   "metadata": {},
   "outputs": [],
   "source": []
  },
  {
   "cell_type": "markdown",
   "metadata": {},
   "source": [
    "#### [3]\n",
    "사용자로부터 2~9의 숫자 중 하나를 입력받아 해당 숫자의 구구단을 한 줄로 출력하는 프로그램을 작성하시오.\n",
    "\n",
    "실행 예)\n",
    "\n",
    "구구단을 출력할 숫자를 입력하세요(2~9): 2\n",
    "```\n",
    "2 4 6 8 10 12 14 16 18\n",
    "```"
   ]
  },
  {
   "cell_type": "code",
   "execution_count": null,
   "metadata": {},
   "outputs": [],
   "source": []
  },
  {
   "cell_type": "markdown",
   "metadata": {},
   "source": [
    "#### [4]\n",
    "다음과 같은 내용의 파일 abc.txt가 있다.\n",
    "```\n",
    "AAA\n",
    "BBB\n",
    "CCC\n",
    "DDD\n",
    "EEE\n",
    "```\n",
    "이 파일의 내용을 다음과 같이 역순으로 바꾸어 저장하시오.\n",
    "```\n",
    "EEE\n",
    "DDD\n",
    "CCC\n",
    "BBB\n",
    "AAA\n",
    "```"
   ]
  },
  {
   "cell_type": "code",
   "execution_count": null,
   "metadata": {},
   "outputs": [],
   "source": []
  },
  {
   "cell_type": "markdown",
   "metadata": {},
   "source": [
    "#### [5]\n",
    "다음과 같이 동작하는 클래스 Calculator를 작성하시오.\n",
    "```python\n",
    ">>> cal1 = Calculator([1,2,3,4,5])\n",
    ">>> cal1.sum() # 합계\n",
    "15\n",
    ">>> cal1.avg() # 평균\n",
    "3.0\n",
    ">>> cal2 = Calculator([6,7,8,9,10])\n",
    ">>> cal2.sum() # 합계\n",
    "40\n",
    ">>> cal2.avg() # 평균\n",
    "8.0\n",
    "```"
   ]
  },
  {
   "cell_type": "markdown",
   "metadata": {},
   "source": []
  },
  {
   "cell_type": "markdown",
   "metadata": {},
   "source": [
    "#### [6]\n",
    " 현 프로젝트 내 modules 디렉터리에 sample_module.py 모듈이 있다. 명령 프롬프트 창에서 파이썬 셸을 열어 이 모듈을 import해서 사용할 수 있는 방법을 모두 기술하시오. (즉 다음과 같이 import mymod를 수행할 때 오류가 없어야 한다.)\n",
    "```\n",
    ">>> import sample_module.py\n",
    ">>>\n",
    "```\n",
    "`sys` library나 `PYTHONPATH`를 사용해보자."
   ]
  },
  {
   "cell_type": "code",
   "execution_count": null,
   "metadata": {},
   "outputs": [],
   "source": []
  },
  {
   "cell_type": "markdown",
   "metadata": {},
   "source": [
    "#### [7]\n",
    "\n",
    "0~9의 문자로 된 숫자를 입력받았을 때, 이 입력값이 0~9의 모든 숫자를 각각 한 번씩만 사용한 것인지 확인하는 함수를 작성하시오.\n",
    "```\n",
    "입력 예시: 0123456789 01234 01234567890 6789012345 012322456789\n",
    "출력 예시: True False False True False\n",
    "```"
   ]
  },
  {
   "cell_type": "markdown",
   "metadata": {},
   "source": []
  }
 ],
 "metadata": {
  "kernelspec": {
   "display_name": "Python 3.8.9 64-bit",
   "language": "python",
   "name": "python3"
  },
  "language_info": {
   "codemirror_mode": {
    "name": "ipython",
    "version": 3
   },
   "file_extension": ".py",
   "mimetype": "text/x-python",
   "name": "python",
   "nbconvert_exporter": "python",
   "pygments_lexer": "ipython3",
   "version": "3.8.9"
  },
  "orig_nbformat": 4,
  "vscode": {
   "interpreter": {
    "hash": "31f2aee4e71d21fbe5cf8b01ff0e069b9275f58929596ceb00d14d90e3e16cd6"
   }
  }
 },
 "nbformat": 4,
 "nbformat_minor": 2
}
